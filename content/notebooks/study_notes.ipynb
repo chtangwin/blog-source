{
 "metadata": {
  "name": "",
  "signature": "sha256:7ed46ec7a29b7e01d9627a64fb21fe4f5c17ab156fce9f457f440714077c5fee"
 },
 "nbformat": 3,
 "nbformat_minor": 0,
 "worksheets": [
  {
   "cells": [
    {
     "cell_type": "heading",
     "level": 1,
     "metadata": {},
     "source": [
      "Bayesian Analysis Learning Notes"
     ]
    },
    {
     "cell_type": "markdown",
     "metadata": {},
     "source": [
      "The following resources are useful for learning Bayesian analysis.\n",
      "\n",
      "## Books\n",
      "\n",
      "- Probabilistic Programming & Bayesian Methods for Hackers, by camdp\n",
      "- Doing Bayesian Data Analysis, 2nd ed, by J. Kruschke\n",
      "- Bayesian Data Analysis, by Gelman, Carlin, Stern, Dunson, Vehtari, and Rubin (1995, 2003, 2013) \n",
      "- Handbook of Markov Chain Monte Carlo, edited by Brooks, Gelman, Jones, and Meng (2011) \n",
      "- Data Analysis Using Regression and Multilevel/Hierarchical Models, by Gelman and Hill (2007) \n",
      "- Applied Bayesian Modelling, 2nd ed, by Congdon.\n",
      "\n",
      "\n",
      "## Software\n",
      "- pyMC\n",
      "      ==> github https://github.com/aloctavodia/Doing_bayesian_data_analysis\n",
      "      ==> BEST:  https://github.com/strawlab/best\n",
      "      ==> The time has come: Bayesian methods for data analysis in the organizational sciences\n",
      "- emcee\n",
      "- Infer.NET\n",
      "      ==> Microsoft TrueSkill\n",
      "\n",
      "## Learning\n",
      "* Chris Fonnesbeck: SciPy 2014 Tutorial, Video 1,2,3\n",
      "      ==> github https://github.com/fonnesbeck/scipy2014_tutorial\n",
      "* [Business 41000](http://faculty.chicagobooth.edu/nicholas.polson/teaching/41000/index.html)\n",
      "* [Frequentism and Bayesianism: A Practical Introduction](https://jakevdp.github.io/blog/2014/03/11/frequentism-and-bayesianism-a-practical-intro/) 4 part series\n",
      "* [Bayesian Estimation Supersedes the t-test (BEST) - online](http://www.sumsar.net/best_online/)\n",
      "\n",
      "## Research\n",
      "* **Nicholas Polson**'s [research papers](http://faculty.chicagobooth.edu/nicholas.polson/research/papers.html) on finance/economics.\n",
      "* automatic graphical model construction (structural inference over dynamic Bayesian networks)\n",
      "\n",
      "## Blogs:\n",
      "    * http://doingbayesiandataanalysis.blogspot.com\n",
      "    * https://jakevdp.github.io/\n",
      "    * https://twiecki.github.io/\n",
      "    * http://camdp.com/blogs/\n",
      "    * http://probablisticprogramming.net\n",
      "    * http://healthyalgorithms.com/\n",
      "\n",
      "## Machine Learning\n",
      "    * http://hunch.net\n",
      "    * http://fastML.com\n"
     ]
    }
   ],
   "metadata": {}
  }
 ]
}