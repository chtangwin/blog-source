{
 "metadata": {
  "name": "",
  "signature": "sha256:515a35d95a737b16687616beb2322a8f405f608d19dad22f39112ef2606af0dc"
 },
 "nbformat": 3,
 "nbformat_minor": 0,
 "worksheets": [
  {
   "cells": [
    {
     "cell_type": "heading",
     "level": 1,
     "metadata": {},
     "source": [
      "Bayesian Analysis Learning Notes"
     ]
    },
    {
     "cell_type": "markdown",
     "metadata": {},
     "source": [
      "The following resources are useful.\n",
      "\n",
      "## Books\n",
      "- Probabilistic Programming & Bayesian Methods for Hackers\n",
      "- Doing Bayesian Analysis by J. Kruschke\n",
      "- Bayesian Data Analysis by A. Gelman\n",
      "- Applied Bayesian Modelling\n",
      "\n",
      "## Software\n",
      "- pyMC\n",
      "        ==> github https://github.com/aloctavodia/Doing_bayesian_data_analysis\n",
      "        ==> BEST:  https://github.com/strawlab/best\n",
      "        ==> The time has come: Bayesian methods for data analysis in the organizational sciences\n",
      "- emcee\n",
      "- Infer.NET\n",
      "        ==> Microsoft TrueSkill\n",
      "\n",
      "## Learning\n",
      "* CHRISTOPHER FONNESBECK SciPy 2014 Tutorial, Video 1,2,3\n",
      "        ==> github https://github.com/fonnesbeck/scipy2014_tutorial\n",
      "* [Business 41000](http://faculty.chicagobooth.edu/nicholas.polson/teaching/41000/index.html)\n",
      "* [Frequentism and Bayesianism: A Practical Introduction](https://jakevdp.github.io/blog/2014/03/11/frequentism-and-bayesianism-a-practical-intro/) 4 part series\n",
      "* [Bayesian Estimation Supersedes the t-test (BEST) - online](http://www.sumsar.net/best_online/)\n",
      "\n",
      "## Research\n",
      "* **Nicholas Polson**\n",
      "          http://faculty.chicagobooth.edu/nicholas.polson/research/papers.html\n",
      "\n",
      "## Blogs:\n",
      "    * http://doingbayesiandataanalysis.blogspot.com\n",
      "    * https://jakevdp.github.io/\n",
      "    * https://twiecki.github.io/\n",
      "    * http://camdp.com/blogs/\n",
      "    * http://probablisticprogramming.net\n",
      "    * http://healthyalgorithms.com/\n",
      "\n",
      "## Machine Learning\n",
      "    * http://hunch.net\n",
      "    * http://fastML.com\n",
      "\n",
      "## Misc\n",
      "automatic graphical model construction (structural inference over dynamic Bayesian networks)"
     ]
    },
    {
     "cell_type": "markdown",
     "metadata": {},
     "source": [
      "some descriptions"
     ]
    }
   ],
   "metadata": {}
  }
 ]
}